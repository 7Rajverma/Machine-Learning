{
 "cells": [
  {
   "cell_type": "code",
   "execution_count": 16,
   "id": "4797ac2a-ab53-484b-8093-e13e23dff92a",
   "metadata": {},
   "outputs": [],
   "source": [
    "import pandas as pd\n",
    "import numpy as np\n",
    "import matplotlib.pyplot as plt\n",
    "from sklearn.tree import DecisionTreeClassifier"
   ]
  },
  {
   "cell_type": "code",
   "execution_count": 17,
   "id": "83a3445c-e1c1-46b7-b9d0-fc4ec60924dc",
   "metadata": {},
   "outputs": [
    {
     "data": {
      "text/html": [
       "<div>\n",
       "<style scoped>\n",
       "    .dataframe tbody tr th:only-of-type {\n",
       "        vertical-align: middle;\n",
       "    }\n",
       "\n",
       "    .dataframe tbody tr th {\n",
       "        vertical-align: top;\n",
       "    }\n",
       "\n",
       "    .dataframe thead th {\n",
       "        text-align: right;\n",
       "    }\n",
       "</style>\n",
       "<table border=\"1\" class=\"dataframe\">\n",
       "  <thead>\n",
       "    <tr style=\"text-align: right;\">\n",
       "      <th></th>\n",
       "      <th>User ID</th>\n",
       "      <th>Gender</th>\n",
       "      <th>Age</th>\n",
       "      <th>EstimatedSalary</th>\n",
       "      <th>Purchased</th>\n",
       "    </tr>\n",
       "  </thead>\n",
       "  <tbody>\n",
       "    <tr>\n",
       "      <th>0</th>\n",
       "      <td>15624510</td>\n",
       "      <td>Male</td>\n",
       "      <td>19</td>\n",
       "      <td>19000</td>\n",
       "      <td>0</td>\n",
       "    </tr>\n",
       "    <tr>\n",
       "      <th>1</th>\n",
       "      <td>15810944</td>\n",
       "      <td>Male</td>\n",
       "      <td>35</td>\n",
       "      <td>20000</td>\n",
       "      <td>0</td>\n",
       "    </tr>\n",
       "    <tr>\n",
       "      <th>2</th>\n",
       "      <td>15668575</td>\n",
       "      <td>Female</td>\n",
       "      <td>26</td>\n",
       "      <td>43000</td>\n",
       "      <td>0</td>\n",
       "    </tr>\n",
       "    <tr>\n",
       "      <th>3</th>\n",
       "      <td>15603246</td>\n",
       "      <td>Female</td>\n",
       "      <td>27</td>\n",
       "      <td>57000</td>\n",
       "      <td>0</td>\n",
       "    </tr>\n",
       "    <tr>\n",
       "      <th>4</th>\n",
       "      <td>15804002</td>\n",
       "      <td>Male</td>\n",
       "      <td>19</td>\n",
       "      <td>76000</td>\n",
       "      <td>0</td>\n",
       "    </tr>\n",
       "  </tbody>\n",
       "</table>\n",
       "</div>"
      ],
      "text/plain": [
       "    User ID  Gender  Age  EstimatedSalary  Purchased\n",
       "0  15624510    Male   19            19000          0\n",
       "1  15810944    Male   35            20000          0\n",
       "2  15668575  Female   26            43000          0\n",
       "3  15603246  Female   27            57000          0\n",
       "4  15804002    Male   19            76000          0"
      ]
     },
     "execution_count": 17,
     "metadata": {},
     "output_type": "execute_result"
    }
   ],
   "source": [
    "df = pd.read_csv(\"Social_Network_Ads.csv\")\n",
    "df.head()"
   ]
  },
  {
   "cell_type": "code",
   "execution_count": 18,
   "id": "1a85ebab-a9a8-4d6d-84d0-b0801d8904f8",
   "metadata": {},
   "outputs": [],
   "source": [
    "def analayzer(max_depth):\n",
    "    df = pd.read_csv(\"Social_Network_Ads.csv\")\n",
    "    X = df.iloc[:,2:4].values\n",
    "    y = df.iloc[:,-1].values\n",
    "\n",
    "    dt = DecisionTreeClassifier(max_depth=max_depth,criterion=\"gini\")\n",
    "    dt.fit(X,y)\n",
    "    a = np.arange(start=X[:,0].min()-1, stop=X[:,0].max()+1, step=0.1)\n",
    "    b = np.arange(start=X[:,1].min()-1, stop=X[:,1].max()+1, step=100)\n",
    "\n",
    "    XX,YY = np.meshgrid(a,b)\n",
    "\n",
    "    input_arry = np.array([XX.ravel(),YY.ravel()]).T\n",
    "\n",
    "    labels = dt.predict(input_array)\n",
    "\n",
    "    plt.contourf(XX,YY,labels.reshape(XX.shape), alpha=0.5)\n",
    "    plt.scatter(X[:,0],X[:,1], c=y) "
   ]
  },
  {
   "cell_type": "code",
   "execution_count": 20,
   "id": "8ad53a9e-eb4b-4229-841c-5ee76bd863ef",
   "metadata": {},
   "outputs": [
    {
     "ename": "NameError",
     "evalue": "name 'input_array' is not defined",
     "output_type": "error",
     "traceback": [
      "\u001b[1;31m---------------------------------------------------------------------------\u001b[0m",
      "\u001b[1;31mNameError\u001b[0m                                 Traceback (most recent call last)",
      "Cell \u001b[1;32mIn[20], line 1\u001b[0m\n\u001b[1;32m----> 1\u001b[0m analayzer(max_depth\u001b[38;5;241m=\u001b[39m\u001b[38;5;28;01mNone\u001b[39;00m)\n",
      "Cell \u001b[1;32mIn[18], line 15\u001b[0m, in \u001b[0;36manalayzer\u001b[1;34m(max_depth)\u001b[0m\n\u001b[0;32m     11\u001b[0m XX,YY \u001b[38;5;241m=\u001b[39m np\u001b[38;5;241m.\u001b[39mmeshgrid(a,b)\n\u001b[0;32m     13\u001b[0m input_arry \u001b[38;5;241m=\u001b[39m np\u001b[38;5;241m.\u001b[39marray([XX\u001b[38;5;241m.\u001b[39mravel(),YY\u001b[38;5;241m.\u001b[39mravel()])\u001b[38;5;241m.\u001b[39mT\n\u001b[1;32m---> 15\u001b[0m labels \u001b[38;5;241m=\u001b[39m dt\u001b[38;5;241m.\u001b[39mpredict(input_array)\n\u001b[0;32m     17\u001b[0m plt\u001b[38;5;241m.\u001b[39mcontourf(XX,YY,labels\u001b[38;5;241m.\u001b[39mreshape(XX\u001b[38;5;241m.\u001b[39mshape), alpha\u001b[38;5;241m=\u001b[39m\u001b[38;5;241m0.5\u001b[39m)\n\u001b[0;32m     18\u001b[0m plt\u001b[38;5;241m.\u001b[39mscatter(X[:,\u001b[38;5;241m0\u001b[39m],X[:,\u001b[38;5;241m1\u001b[39m], c\u001b[38;5;241m=\u001b[39my)\n",
      "\u001b[1;31mNameError\u001b[0m: name 'input_array' is not defined"
     ]
    }
   ],
   "source": [
    "analayzer(max_depth=None)"
   ]
  },
  {
   "cell_type": "code",
   "execution_count": null,
   "id": "e854b695-38f4-4cf1-89e0-7fd5ee56799e",
   "metadata": {},
   "outputs": [],
   "source": []
  },
  {
   "cell_type": "code",
   "execution_count": null,
   "id": "bf078cc4-6076-4b08-b864-872b63be553e",
   "metadata": {},
   "outputs": [],
   "source": []
  }
 ],
 "metadata": {
  "kernelspec": {
   "display_name": "Python 3 (ipykernel)",
   "language": "python",
   "name": "python3"
  },
  "language_info": {
   "codemirror_mode": {
    "name": "ipython",
    "version": 3
   },
   "file_extension": ".py",
   "mimetype": "text/x-python",
   "name": "python",
   "nbconvert_exporter": "python",
   "pygments_lexer": "ipython3",
   "version": "3.12.4"
  }
 },
 "nbformat": 4,
 "nbformat_minor": 5
}
