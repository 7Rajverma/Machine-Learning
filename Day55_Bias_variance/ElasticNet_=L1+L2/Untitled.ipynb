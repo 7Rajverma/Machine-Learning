{
 "cells": [
  {
   "cell_type": "code",
   "execution_count": 2,
   "id": "fd13a632-9e99-43e5-9da9-3d83eff1261e",
   "metadata": {},
   "outputs": [],
   "source": [
    "from sklearn.datasets import load_diabetes\n",
    "from sklearn.metrics import r2_score\n",
    "from sklearn.linear_model import Ridge, Lasso , ElasticNet,LinearRegression\n",
    "from sklearn.model_selection import train_test_split"
   ]
  },
  {
   "cell_type": "code",
   "execution_count": 5,
   "id": "11bd99d2-2867-41e6-81b8-6d7f9a380875",
   "metadata": {},
   "outputs": [],
   "source": [
    "X,y = load_diabetes(return_X_y=True)"
   ]
  },
  {
   "cell_type": "code",
   "execution_count": 6,
   "id": "3d67248d-be09-43ab-bb63-6d5f4a1caff1",
   "metadata": {},
   "outputs": [],
   "source": [
    "X_train ,X_test, y_train, y_test = train_test_split(X,y,test_size=0.2,random_state=2)"
   ]
  },
  {
   "cell_type": "markdown",
   "id": "b44984da-e95a-41c4-a953-2b0478dfc717",
   "metadata": {},
   "source": [
    "# Appling Linear Regression"
   ]
  },
  {
   "cell_type": "code",
   "execution_count": 8,
   "id": "baec4237-d7ee-4445-9bc9-da26aca814bf",
   "metadata": {},
   "outputs": [
    {
     "name": "stdout",
     "output_type": "stream",
     "text": [
      "[  -9.15865318 -205.45432163  516.69374454  340.61999905 -895.5520019\n",
      "  561.22067904  153.89310954  126.73139688  861.12700152   52.42112238]\n"
     ]
    },
    {
     "data": {
      "text/plain": [
       "0.4399338661568968"
      ]
     },
     "execution_count": 8,
     "metadata": {},
     "output_type": "execute_result"
    }
   ],
   "source": [
    "lr = LinearRegression()\n",
    "lr.fit(X_train,y_train)\n",
    "y_pred= lr.predict(X_test)\n",
    "print(lr.coef_)\n",
    "r2_score(y_test,y_pred)"
   ]
  },
  {
   "cell_type": "markdown",
   "id": "6314f160-e28c-4125-bc98-4eb19ea6f1ec",
   "metadata": {},
   "source": [
    "# Appling Ridge"
   ]
  },
  {
   "cell_type": "code",
   "execution_count": 13,
   "id": "77803600-79f6-4b9c-85d8-69ddf8d30c2c",
   "metadata": {},
   "outputs": [
    {
     "name": "stdout",
     "output_type": "stream",
     "text": [
      "[   6.64373321 -172.23747375  485.52958514  314.67584612  -72.94020918\n",
      "  -80.58868817 -174.46352722   83.61470987  484.36531622   73.58509056]\n"
     ]
    },
    {
     "data": {
      "text/plain": [
       "0.45199494197195456"
      ]
     },
     "execution_count": 13,
     "metadata": {},
     "output_type": "execute_result"
    }
   ],
   "source": [
    "rr = Ridge(alpha=0.1)\n",
    "rr.fit(X_train,y_train)\n",
    "y_pred2 = rr.predict(X_test)\n",
    "print(rr.coef_)\n",
    "\n",
    "r2_score(y_test,y_pred2)"
   ]
  },
  {
   "cell_type": "code",
   "execution_count": 15,
   "id": "6494c7e6-c032-4942-8d2a-5f17b69c156c",
   "metadata": {},
   "outputs": [
    {
     "name": "stdout",
     "output_type": "stream",
     "text": [
      "[  -1.35972089 -192.93718018  526.35651446  332.6411011  -430.22697505\n",
      "  191.29547987  -44.03491271   68.98898658  688.39602778   47.94061621]\n"
     ]
    },
    {
     "data": {
      "text/plain": [
       "0.441118559631106"
      ]
     },
     "execution_count": 15,
     "metadata": {},
     "output_type": "execute_result"
    }
   ],
   "source": [
    "lasso = Lasso(alpha=0.01)\n",
    "lasso.fit(X_train,y_train)\n",
    "y_pred3 = lasso.predict(X_test)\n",
    "print(lasso.coef_)\n",
    "\n",
    "r2_score(y_test,y_pred3)"
   ]
  },
  {
   "cell_type": "code",
   "execution_count": 24,
   "id": "ee561912-fe51-4676-b764-f7665baef937",
   "metadata": {},
   "outputs": [
    {
     "name": "stdout",
     "output_type": "stream",
     "text": [
      "[  32.52974717  -96.60585416  360.43126322  245.03446429   -3.26537966\n",
      "  -52.32154751 -158.84413462  102.56597473  334.24610079   98.18992919]\n"
     ]
    },
    {
     "data": {
      "text/plain": [
       "0.43983446094077994"
      ]
     },
     "execution_count": 24,
     "metadata": {},
     "output_type": "execute_result"
    }
   ],
   "source": [
    "ee = ElasticNet(alpha=0.005,l1_ratio=0.71)\n",
    "ee.fit(X_train,y_train)\n",
    "y_pred4 = ee.predict(X_test)\n",
    "print(ee.coef_)\n",
    "\n",
    "r2_score(y_test,y_pred4)"
   ]
  },
  {
   "cell_type": "code",
   "execution_count": null,
   "id": "a3b950f4-f97b-47be-a510-43dd52bcd1d8",
   "metadata": {},
   "outputs": [],
   "source": []
  }
 ],
 "metadata": {
  "kernelspec": {
   "display_name": "Python 3 (ipykernel)",
   "language": "python",
   "name": "python3"
  },
  "language_info": {
   "codemirror_mode": {
    "name": "ipython",
    "version": 3
   },
   "file_extension": ".py",
   "mimetype": "text/x-python",
   "name": "python",
   "nbconvert_exporter": "python",
   "pygments_lexer": "ipython3",
   "version": "3.12.4"
  }
 },
 "nbformat": 4,
 "nbformat_minor": 5
}
