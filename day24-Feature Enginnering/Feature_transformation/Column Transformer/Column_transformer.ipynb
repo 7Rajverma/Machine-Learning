{
 "cells": [
  {
   "cell_type": "code",
   "execution_count": 1,
   "id": "343f860c-3bde-4bfd-bfda-f9d1f535e4b0",
   "metadata": {},
   "outputs": [],
   "source": [
    "import pandas as pd\n",
    "import numpy as np"
   ]
  },
  {
   "cell_type": "code",
   "execution_count": 2,
   "id": "4fbe49e5-3b7c-4987-a0dc-91c3f0c3fb15",
   "metadata": {},
   "outputs": [],
   "source": [
    "df = pd.read_csv(\"covid_toy.csv\")"
   ]
  },
  {
   "cell_type": "code",
   "execution_count": 3,
   "id": "45736c38-b7e2-49da-9fa8-1b6b364c180a",
   "metadata": {},
   "outputs": [
    {
     "data": {
      "text/html": [
       "<div>\n",
       "<style scoped>\n",
       "    .dataframe tbody tr th:only-of-type {\n",
       "        vertical-align: middle;\n",
       "    }\n",
       "\n",
       "    .dataframe tbody tr th {\n",
       "        vertical-align: top;\n",
       "    }\n",
       "\n",
       "    .dataframe thead th {\n",
       "        text-align: right;\n",
       "    }\n",
       "</style>\n",
       "<table border=\"1\" class=\"dataframe\">\n",
       "  <thead>\n",
       "    <tr style=\"text-align: right;\">\n",
       "      <th></th>\n",
       "      <th>age</th>\n",
       "      <th>gender</th>\n",
       "      <th>fever</th>\n",
       "      <th>cough</th>\n",
       "      <th>city</th>\n",
       "      <th>has_covid</th>\n",
       "    </tr>\n",
       "  </thead>\n",
       "  <tbody>\n",
       "    <tr>\n",
       "      <th>38</th>\n",
       "      <td>49</td>\n",
       "      <td>Female</td>\n",
       "      <td>101.0</td>\n",
       "      <td>Mild</td>\n",
       "      <td>Delhi</td>\n",
       "      <td>Yes</td>\n",
       "    </tr>\n",
       "    <tr>\n",
       "      <th>6</th>\n",
       "      <td>14</td>\n",
       "      <td>Male</td>\n",
       "      <td>101.0</td>\n",
       "      <td>Strong</td>\n",
       "      <td>Bangalore</td>\n",
       "      <td>No</td>\n",
       "    </tr>\n",
       "    <tr>\n",
       "      <th>92</th>\n",
       "      <td>82</td>\n",
       "      <td>Female</td>\n",
       "      <td>102.0</td>\n",
       "      <td>Strong</td>\n",
       "      <td>Kolkata</td>\n",
       "      <td>No</td>\n",
       "    </tr>\n",
       "    <tr>\n",
       "      <th>66</th>\n",
       "      <td>51</td>\n",
       "      <td>Male</td>\n",
       "      <td>104.0</td>\n",
       "      <td>Mild</td>\n",
       "      <td>Kolkata</td>\n",
       "      <td>No</td>\n",
       "    </tr>\n",
       "    <tr>\n",
       "      <th>23</th>\n",
       "      <td>80</td>\n",
       "      <td>Female</td>\n",
       "      <td>98.0</td>\n",
       "      <td>Mild</td>\n",
       "      <td>Delhi</td>\n",
       "      <td>Yes</td>\n",
       "    </tr>\n",
       "    <tr>\n",
       "      <th>17</th>\n",
       "      <td>40</td>\n",
       "      <td>Female</td>\n",
       "      <td>98.0</td>\n",
       "      <td>Strong</td>\n",
       "      <td>Delhi</td>\n",
       "      <td>No</td>\n",
       "    </tr>\n",
       "    <tr>\n",
       "      <th>64</th>\n",
       "      <td>42</td>\n",
       "      <td>Male</td>\n",
       "      <td>104.0</td>\n",
       "      <td>Mild</td>\n",
       "      <td>Mumbai</td>\n",
       "      <td>No</td>\n",
       "    </tr>\n",
       "    <tr>\n",
       "      <th>54</th>\n",
       "      <td>60</td>\n",
       "      <td>Female</td>\n",
       "      <td>99.0</td>\n",
       "      <td>Mild</td>\n",
       "      <td>Mumbai</td>\n",
       "      <td>Yes</td>\n",
       "    </tr>\n",
       "    <tr>\n",
       "      <th>40</th>\n",
       "      <td>49</td>\n",
       "      <td>Female</td>\n",
       "      <td>102.0</td>\n",
       "      <td>Mild</td>\n",
       "      <td>Delhi</td>\n",
       "      <td>No</td>\n",
       "    </tr>\n",
       "    <tr>\n",
       "      <th>46</th>\n",
       "      <td>19</td>\n",
       "      <td>Female</td>\n",
       "      <td>101.0</td>\n",
       "      <td>Mild</td>\n",
       "      <td>Mumbai</td>\n",
       "      <td>No</td>\n",
       "    </tr>\n",
       "  </tbody>\n",
       "</table>\n",
       "</div>"
      ],
      "text/plain": [
       "    age  gender  fever   cough       city has_covid\n",
       "38   49  Female  101.0    Mild      Delhi       Yes\n",
       "6    14    Male  101.0  Strong  Bangalore        No\n",
       "92   82  Female  102.0  Strong    Kolkata        No\n",
       "66   51    Male  104.0    Mild    Kolkata        No\n",
       "23   80  Female   98.0    Mild      Delhi       Yes\n",
       "17   40  Female   98.0  Strong      Delhi        No\n",
       "64   42    Male  104.0    Mild     Mumbai        No\n",
       "54   60  Female   99.0    Mild     Mumbai       Yes\n",
       "40   49  Female  102.0    Mild      Delhi        No\n",
       "46   19  Female  101.0    Mild     Mumbai        No"
      ]
     },
     "execution_count": 3,
     "metadata": {},
     "output_type": "execute_result"
    }
   ],
   "source": [
    "df.sample(10)"
   ]
  },
  {
   "cell_type": "code",
   "execution_count": 4,
   "id": "34c102ae-47d4-4ad9-9091-fb929c3a3a08",
   "metadata": {},
   "outputs": [
    {
     "data": {
      "text/plain": [
       "(100, 6)"
      ]
     },
     "execution_count": 4,
     "metadata": {},
     "output_type": "execute_result"
    }
   ],
   "source": [
    "df.shape"
   ]
  },
  {
   "cell_type": "code",
   "execution_count": 5,
   "id": "ec4b82af-6175-41c7-a8e4-dac3f56fd932",
   "metadata": {},
   "outputs": [
    {
     "data": {
      "text/plain": [
       "age           0\n",
       "gender        0\n",
       "fever        10\n",
       "cough         0\n",
       "city          0\n",
       "has_covid     0\n",
       "dtype: int64"
      ]
     },
     "execution_count": 5,
     "metadata": {},
     "output_type": "execute_result"
    }
   ],
   "source": [
    "df.isnull().sum()"
   ]
  },
  {
   "cell_type": "code",
   "execution_count": 6,
   "id": "f0b2943c-bace-4d98-8ed3-f198655bcf64",
   "metadata": {},
   "outputs": [],
   "source": [
    "from sklearn.model_selection import train_test_split \n",
    "X_train , X_test , y_train, y_train = train_test_split(df.drop(columns=[\"has_covid\"]),df['has_covid'],test_size=.2)"
   ]
  },
  {
   "cell_type": "code",
   "execution_count": 10,
   "id": "9dc54675-7a48-4772-9b6d-f55ba2dc83d7",
   "metadata": {},
   "outputs": [
    {
     "data": {
      "text/html": [
       "<div>\n",
       "<style scoped>\n",
       "    .dataframe tbody tr th:only-of-type {\n",
       "        vertical-align: middle;\n",
       "    }\n",
       "\n",
       "    .dataframe tbody tr th {\n",
       "        vertical-align: top;\n",
       "    }\n",
       "\n",
       "    .dataframe thead th {\n",
       "        text-align: right;\n",
       "    }\n",
       "</style>\n",
       "<table border=\"1\" class=\"dataframe\">\n",
       "  <thead>\n",
       "    <tr style=\"text-align: right;\">\n",
       "      <th></th>\n",
       "      <th>age</th>\n",
       "      <th>gender</th>\n",
       "      <th>fever</th>\n",
       "      <th>cough</th>\n",
       "      <th>city</th>\n",
       "    </tr>\n",
       "  </thead>\n",
       "  <tbody>\n",
       "    <tr>\n",
       "      <th>48</th>\n",
       "      <td>66</td>\n",
       "      <td>Male</td>\n",
       "      <td>99.0</td>\n",
       "      <td>Strong</td>\n",
       "      <td>Bangalore</td>\n",
       "    </tr>\n",
       "    <tr>\n",
       "      <th>50</th>\n",
       "      <td>19</td>\n",
       "      <td>Male</td>\n",
       "      <td>101.0</td>\n",
       "      <td>Mild</td>\n",
       "      <td>Delhi</td>\n",
       "    </tr>\n",
       "    <tr>\n",
       "      <th>89</th>\n",
       "      <td>46</td>\n",
       "      <td>Male</td>\n",
       "      <td>103.0</td>\n",
       "      <td>Strong</td>\n",
       "      <td>Bangalore</td>\n",
       "    </tr>\n",
       "    <tr>\n",
       "      <th>3</th>\n",
       "      <td>31</td>\n",
       "      <td>Female</td>\n",
       "      <td>98.0</td>\n",
       "      <td>Mild</td>\n",
       "      <td>Kolkata</td>\n",
       "    </tr>\n",
       "    <tr>\n",
       "      <th>90</th>\n",
       "      <td>59</td>\n",
       "      <td>Female</td>\n",
       "      <td>99.0</td>\n",
       "      <td>Strong</td>\n",
       "      <td>Delhi</td>\n",
       "    </tr>\n",
       "    <tr>\n",
       "      <th>...</th>\n",
       "      <td>...</td>\n",
       "      <td>...</td>\n",
       "      <td>...</td>\n",
       "      <td>...</td>\n",
       "      <td>...</td>\n",
       "    </tr>\n",
       "    <tr>\n",
       "      <th>84</th>\n",
       "      <td>69</td>\n",
       "      <td>Female</td>\n",
       "      <td>98.0</td>\n",
       "      <td>Strong</td>\n",
       "      <td>Mumbai</td>\n",
       "    </tr>\n",
       "    <tr>\n",
       "      <th>78</th>\n",
       "      <td>11</td>\n",
       "      <td>Male</td>\n",
       "      <td>100.0</td>\n",
       "      <td>Mild</td>\n",
       "      <td>Bangalore</td>\n",
       "    </tr>\n",
       "    <tr>\n",
       "      <th>64</th>\n",
       "      <td>42</td>\n",
       "      <td>Male</td>\n",
       "      <td>104.0</td>\n",
       "      <td>Mild</td>\n",
       "      <td>Mumbai</td>\n",
       "    </tr>\n",
       "    <tr>\n",
       "      <th>59</th>\n",
       "      <td>6</td>\n",
       "      <td>Female</td>\n",
       "      <td>104.0</td>\n",
       "      <td>Mild</td>\n",
       "      <td>Kolkata</td>\n",
       "    </tr>\n",
       "    <tr>\n",
       "      <th>69</th>\n",
       "      <td>73</td>\n",
       "      <td>Female</td>\n",
       "      <td>103.0</td>\n",
       "      <td>Mild</td>\n",
       "      <td>Delhi</td>\n",
       "    </tr>\n",
       "  </tbody>\n",
       "</table>\n",
       "<p>80 rows × 5 columns</p>\n",
       "</div>"
      ],
      "text/plain": [
       "    age  gender  fever   cough       city\n",
       "48   66    Male   99.0  Strong  Bangalore\n",
       "50   19    Male  101.0    Mild      Delhi\n",
       "89   46    Male  103.0  Strong  Bangalore\n",
       "3    31  Female   98.0    Mild    Kolkata\n",
       "90   59  Female   99.0  Strong      Delhi\n",
       "..  ...     ...    ...     ...        ...\n",
       "84   69  Female   98.0  Strong     Mumbai\n",
       "78   11    Male  100.0    Mild  Bangalore\n",
       "64   42    Male  104.0    Mild     Mumbai\n",
       "59    6  Female  104.0    Mild    Kolkata\n",
       "69   73  Female  103.0    Mild      Delhi\n",
       "\n",
       "[80 rows x 5 columns]"
      ]
     },
     "execution_count": 10,
     "metadata": {},
     "output_type": "execute_result"
    }
   ],
   "source": [
    "X_train "
   ]
  },
  {
   "cell_type": "code",
   "execution_count": 11,
   "id": "5f4f72c7-3d15-426c-9b79-8f1ff5169a56",
   "metadata": {},
   "outputs": [
    {
     "data": {
      "text/plain": [
       "47     No\n",
       "91    Yes\n",
       "13    Yes\n",
       "25     No\n",
       "20     No\n",
       "5     Yes\n",
       "15    Yes\n",
       "2      No\n",
       "45     No\n",
       "38    Yes\n",
       "36     No\n",
       "24     No\n",
       "52    Yes\n",
       "99    Yes\n",
       "65     No\n",
       "4      No\n",
       "77     No\n",
       "34    Yes\n",
       "7     Yes\n",
       "49     No\n",
       "Name: has_covid, dtype: object"
      ]
     },
     "execution_count": 11,
     "metadata": {},
     "output_type": "execute_result"
    }
   ],
   "source": [
    "y_train"
   ]
  },
  {
   "cell_type": "markdown",
   "id": "2f9867cf-2c89-425a-884f-4e2d1975a4aa",
   "metadata": {},
   "source": [
    "# Aam Zindagi      (Without column transformation)"
   ]
  },
  {
   "cell_type": "code",
   "execution_count": 15,
   "id": "5dc40d97-0710-4686-922a-5a70c1bdb81e",
   "metadata": {},
   "outputs": [
    {
     "data": {
      "text/plain": [
       "(80, 1)"
      ]
     },
     "execution_count": 15,
     "metadata": {},
     "output_type": "execute_result"
    }
   ],
   "source": [
    "from sklearn.impute import SimpleImputer # this is use for the missing value in the data\n",
    "\n",
    "si = SimpleImputer()\n",
    "X_train_fever = si.fit_transform(X_train[[\"fever\"]])   #missing value is replaced by the mean of the column \n",
    "\n",
    "\n",
    "\n",
    "X_test_fever = si.fit_transform(X_test[[\"fever\"]])    #missing value is replaced by the mean of the column \n",
    "                                                     \n",
    "\n",
    "X_train_fever.shape"
   ]
  },
  {
   "cell_type": "code",
   "execution_count": 19,
   "id": "c0489f43-ee8d-4bfb-a8f0-2b0572f09240",
   "metadata": {},
   "outputs": [
    {
     "data": {
      "text/plain": [
       "(80, 1)"
      ]
     },
     "execution_count": 19,
     "metadata": {},
     "output_type": "execute_result"
    }
   ],
   "source": [
    "\n",
    "from sklearn.preprocessing import OrdinalEncoder\n",
    "oe = OrdinalEncoder(categories=[['Mild','Strong']])\n",
    "\n",
    "\n",
    "X_train_cough = oe.fit_transform(X_train[[\"cough\"]])\n",
    "\n",
    "\n",
    "X_test_cough = oe.fit_transform(X_test[[\"cough\"]])\n",
    "\n",
    "\n",
    "X_train_cough.shape"
   ]
  },
  {
   "cell_type": "code",
   "execution_count": 23,
   "id": "fa741155-e38f-403d-a7ff-739415b4a9d4",
   "metadata": {},
   "outputs": [
    {
     "data": {
      "text/plain": [
       "(80, 4)"
      ]
     },
     "execution_count": 23,
     "metadata": {},
     "output_type": "execute_result"
    }
   ],
   "source": [
    "from sklearn.preprocessing import OneHotEncoder\n",
    "\n",
    "ohe = OneHotEncoder(drop='first',sparse_output=False)\n",
    "X_train_gender = ohe.fit_transform(X_train[[\"gender\",\"city\"]])\n",
    "\n",
    "\n",
    "X_test_gender = ohe.fit_transform(X_test[[\"gender\",\"city\"]])\n",
    "\n",
    "X_train_gender.shape"
   ]
  },
  {
   "cell_type": "code",
   "execution_count": 26,
   "id": "d0809439-0f21-45cd-9150-b599e3367bcd",
   "metadata": {},
   "outputs": [
    {
     "data": {
      "text/plain": [
       "(80, 1)"
      ]
     },
     "execution_count": 26,
     "metadata": {},
     "output_type": "execute_result"
    }
   ],
   "source": [
    "# Extracting age\n",
    "\n",
    "X_train_age = X_train.drop(columns=[\"gender\",\"cough\",\"fever\",\"city\"]).values\n",
    "\n",
    "\n",
    "X_test_age = X_test.drop(columns=[\"gender\",\"cough\",\"fever\",\"city\"]).values\n",
    "\n",
    "X_train_age.shape"
   ]
  },
  {
   "cell_type": "code",
   "execution_count": 35,
   "id": "0790dafc-2ce1-410c-947c-a9610552ba6c",
   "metadata": {},
   "outputs": [
    {
     "data": {
      "text/plain": [
       "(20, 7)"
      ]
     },
     "execution_count": 35,
     "metadata": {},
     "output_type": "execute_result"
    }
   ],
   "source": [
    "X_train_transform = np.concatenate((X_train_age,X_train_fever,X_train_gender,X_train_cough),axis=1)\n",
    "\n",
    "\n",
    "X_test_transform = np.concatenate((X_test_age,X_test_fever,X_test_gender,X_test_cough),axis=1)\n",
    "\n",
    "\n",
    "X_train_transform.shape\n",
    "X_test_transform.shape"
   ]
  },
  {
   "cell_type": "markdown",
   "id": "994090c8-2442-4098-b770-c981ddebf1ad",
   "metadata": {},
   "source": [
    "# Mentos Zindagi   (With Column transformation)"
   ]
  },
  {
   "cell_type": "code",
   "execution_count": 29,
   "id": "e486a9b3-32e7-4305-b807-f1a57ef0b76b",
   "metadata": {},
   "outputs": [],
   "source": [
    "from sklearn.compose import ColumnTransformer\n"
   ]
  },
  {
   "cell_type": "code",
   "execution_count": 32,
   "id": "2ba5a805-f2aa-4763-adf9-07d7df6b3b50",
   "metadata": {},
   "outputs": [],
   "source": [
    "transformer = ColumnTransformer(transformers=[\n",
    "    ('tnf1',SimpleImputer(),['fever']),\n",
    "    ('tnf2',OrdinalEncoder(categories=[['Mild','Strong']]),['cough']),\n",
    "    ('tnf3',OneHotEncoder(sparse_output=False,drop='first'),['gender','city'])\n",
    "],remainder='passthrough')          # in remender there is two option 1st. drop all the column where you not use the column transformation. 2nd passthrough means the column remain same "
   ]
  },
  {
   "cell_type": "code",
   "execution_count": 36,
   "id": "0412691f-cc24-4973-b918-cef518a7004e",
   "metadata": {},
   "outputs": [
    {
     "data": {
      "text/plain": [
       "array([[ 99.       ,   1.       ,   1.       ,   0.       ,   0.       ,\n",
       "          0.       ,  66.       ],\n",
       "       [101.       ,   0.       ,   1.       ,   1.       ,   0.       ,\n",
       "          0.       ,  19.       ],\n",
       "       [103.       ,   1.       ,   1.       ,   0.       ,   0.       ,\n",
       "          0.       ,  46.       ],\n",
       "       [ 98.       ,   0.       ,   0.       ,   0.       ,   1.       ,\n",
       "          0.       ,  31.       ],\n",
       "       [ 99.       ,   1.       ,   0.       ,   1.       ,   0.       ,\n",
       "          0.       ,  59.       ],\n",
       "       [ 98.       ,   0.       ,   0.       ,   1.       ,   0.       ,\n",
       "          0.       ,  80.       ],\n",
       "       [101.       ,   1.       ,   1.       ,   0.       ,   0.       ,\n",
       "          0.       ,  14.       ],\n",
       "       [100.       ,   0.       ,   1.       ,   0.       ,   0.       ,\n",
       "          0.       ,  80.       ],\n",
       "       [ 99.       ,   0.       ,   1.       ,   1.       ,   0.       ,\n",
       "          0.       ,  65.       ],\n",
       "       [101.       ,   0.       ,   0.       ,   0.       ,   1.       ,\n",
       "          0.       ,  83.       ],\n",
       "       [100.7972973,   1.       ,   1.       ,   0.       ,   1.       ,\n",
       "          0.       ,  79.       ],\n",
       "       [104.       ,   0.       ,   1.       ,   0.       ,   1.       ,\n",
       "          0.       ,  51.       ],\n",
       "       [100.       ,   0.       ,   1.       ,   0.       ,   1.       ,\n",
       "          0.       ,  27.       ],\n",
       "       [104.       ,   0.       ,   1.       ,   0.       ,   0.       ,\n",
       "          0.       ,  51.       ],\n",
       "       [103.       ,   0.       ,   0.       ,   0.       ,   1.       ,\n",
       "          0.       ,  69.       ],\n",
       "       [101.       ,   1.       ,   1.       ,   0.       ,   0.       ,\n",
       "          0.       ,  47.       ],\n",
       "       [ 98.       ,   0.       ,   0.       ,   0.       ,   0.       ,\n",
       "          0.       ,  64.       ],\n",
       "       [ 99.       ,   0.       ,   1.       ,   0.       ,   0.       ,\n",
       "          0.       ,  65.       ],\n",
       "       [101.       ,   1.       ,   0.       ,   0.       ,   1.       ,\n",
       "          0.       ,  51.       ],\n",
       "       [ 99.       ,   0.       ,   0.       ,   0.       ,   0.       ,\n",
       "          0.       ,  22.       ],\n",
       "       [102.       ,   0.       ,   0.       ,   1.       ,   0.       ,\n",
       "          0.       ,  49.       ],\n",
       "       [104.       ,   1.       ,   0.       ,   0.       ,   0.       ,\n",
       "          0.       ,  56.       ],\n",
       "       [ 98.       ,   0.       ,   0.       ,   0.       ,   0.       ,\n",
       "          1.       ,  65.       ],\n",
       "       [100.7972973,   1.       ,   0.       ,   0.       ,   0.       ,\n",
       "          1.       ,  34.       ],\n",
       "       [104.       ,   1.       ,   0.       ,   0.       ,   1.       ,\n",
       "          0.       ,  54.       ],\n",
       "       [104.       ,   0.       ,   0.       ,   0.       ,   1.       ,\n",
       "          0.       ,  17.       ],\n",
       "       [100.       ,   0.       ,   0.       ,   0.       ,   1.       ,\n",
       "          0.       ,   5.       ],\n",
       "       [104.       ,   0.       ,   1.       ,   0.       ,   0.       ,\n",
       "          0.       ,  25.       ],\n",
       "       [103.       ,   0.       ,   0.       ,   0.       ,   1.       ,\n",
       "          0.       ,  48.       ],\n",
       "       [101.       ,   0.       ,   0.       ,   1.       ,   0.       ,\n",
       "          0.       ,  64.       ],\n",
       "       [ 98.       ,   1.       ,   1.       ,   0.       ,   0.       ,\n",
       "          1.       ,  23.       ],\n",
       "       [ 98.       ,   0.       ,   1.       ,   0.       ,   1.       ,\n",
       "          0.       ,  24.       ],\n",
       "       [102.       ,   1.       ,   0.       ,   0.       ,   0.       ,\n",
       "          0.       ,  24.       ],\n",
       "       [ 98.       ,   1.       ,   0.       ,   1.       ,   0.       ,\n",
       "          0.       ,  40.       ],\n",
       "       [ 99.       ,   0.       ,   0.       ,   0.       ,   0.       ,\n",
       "          1.       ,  60.       ],\n",
       "       [ 98.       ,   1.       ,   0.       ,   0.       ,   0.       ,\n",
       "          1.       ,  81.       ],\n",
       "       [102.       ,   0.       ,   1.       ,   0.       ,   1.       ,\n",
       "          0.       ,   5.       ],\n",
       "       [102.       ,   1.       ,   0.       ,   0.       ,   1.       ,\n",
       "          0.       ,  82.       ],\n",
       "       [ 98.       ,   0.       ,   1.       ,   1.       ,   0.       ,\n",
       "          0.       ,  83.       ],\n",
       "       [101.       ,   1.       ,   0.       ,   1.       ,   0.       ,\n",
       "          0.       ,  34.       ],\n",
       "       [102.       ,   1.       ,   0.       ,   1.       ,   0.       ,\n",
       "          0.       ,  33.       ],\n",
       "       [ 98.       ,   1.       ,   1.       ,   0.       ,   1.       ,\n",
       "          0.       ,  34.       ],\n",
       "       [100.       ,   0.       ,   1.       ,   1.       ,   0.       ,\n",
       "          0.       ,  27.       ],\n",
       "       [102.       ,   1.       ,   1.       ,   1.       ,   0.       ,\n",
       "          0.       ,  20.       ],\n",
       "       [100.7972973,   1.       ,   0.       ,   0.       ,   0.       ,\n",
       "          0.       ,  42.       ],\n",
       "       [100.       ,   1.       ,   0.       ,   0.       ,   0.       ,\n",
       "          0.       ,  19.       ],\n",
       "       [ 99.       ,   1.       ,   0.       ,   0.       ,   1.       ,\n",
       "          0.       ,  25.       ],\n",
       "       [103.       ,   0.       ,   0.       ,   0.       ,   0.       ,\n",
       "          0.       ,  16.       ],\n",
       "       [101.       ,   0.       ,   1.       ,   1.       ,   0.       ,\n",
       "          0.       ,  15.       ],\n",
       "       [ 99.       ,   0.       ,   0.       ,   0.       ,   0.       ,\n",
       "          1.       ,  14.       ],\n",
       "       [ 98.       ,   0.       ,   0.       ,   0.       ,   1.       ,\n",
       "          0.       ,  26.       ],\n",
       "       [101.       ,   0.       ,   0.       ,   0.       ,   0.       ,\n",
       "          1.       ,  19.       ],\n",
       "       [ 98.       ,   0.       ,   1.       ,   0.       ,   0.       ,\n",
       "          0.       ,  73.       ],\n",
       "       [ 98.       ,   1.       ,   0.       ,   0.       ,   0.       ,\n",
       "          1.       ,   5.       ],\n",
       "       [101.       ,   0.       ,   0.       ,   0.       ,   0.       ,\n",
       "          0.       ,  20.       ],\n",
       "       [101.       ,   1.       ,   0.       ,   1.       ,   0.       ,\n",
       "          0.       ,  68.       ],\n",
       "       [100.7972973,   0.       ,   1.       ,   0.       ,   1.       ,\n",
       "          0.       ,  82.       ],\n",
       "       [103.       ,   0.       ,   1.       ,   0.       ,   1.       ,\n",
       "          0.       ,  60.       ],\n",
       "       [100.       ,   0.       ,   0.       ,   0.       ,   1.       ,\n",
       "          0.       ,  19.       ],\n",
       "       [102.       ,   1.       ,   0.       ,   0.       ,   0.       ,\n",
       "          0.       ,  82.       ],\n",
       "       [ 98.       ,   1.       ,   0.       ,   0.       ,   1.       ,\n",
       "          0.       ,  71.       ],\n",
       "       [103.       ,   0.       ,   0.       ,   0.       ,   1.       ,\n",
       "          0.       ,  50.       ],\n",
       "       [100.       ,   0.       ,   1.       ,   0.       ,   0.       ,\n",
       "          0.       ,  10.       ],\n",
       "       [ 99.       ,   1.       ,   0.       ,   0.       ,   0.       ,\n",
       "          0.       ,  49.       ],\n",
       "       [104.       ,   0.       ,   1.       ,   0.       ,   1.       ,\n",
       "          0.       ,  16.       ],\n",
       "       [104.       ,   1.       ,   0.       ,   1.       ,   0.       ,\n",
       "          0.       ,  75.       ],\n",
       "       [100.7972973,   0.       ,   0.       ,   1.       ,   0.       ,\n",
       "          0.       ,  75.       ],\n",
       "       [101.       ,   0.       ,   0.       ,   0.       ,   0.       ,\n",
       "          1.       ,  81.       ],\n",
       "       [103.       ,   0.       ,   1.       ,   0.       ,   1.       ,\n",
       "          0.       ,  83.       ],\n",
       "       [104.       ,   1.       ,   0.       ,   1.       ,   0.       ,\n",
       "          0.       ,  34.       ],\n",
       "       [100.       ,   0.       ,   1.       ,   0.       ,   1.       ,\n",
       "          0.       ,  55.       ],\n",
       "       [100.       ,   1.       ,   0.       ,   0.       ,   1.       ,\n",
       "          0.       ,  11.       ],\n",
       "       [100.       ,   0.       ,   1.       ,   1.       ,   0.       ,\n",
       "          0.       ,  27.       ],\n",
       "       [100.7972973,   1.       ,   1.       ,   0.       ,   1.       ,\n",
       "          0.       ,  71.       ],\n",
       "       [104.       ,   0.       ,   0.       ,   0.       ,   0.       ,\n",
       "          0.       ,  12.       ],\n",
       "       [ 98.       ,   1.       ,   0.       ,   0.       ,   0.       ,\n",
       "          1.       ,  69.       ],\n",
       "       [100.       ,   0.       ,   1.       ,   0.       ,   0.       ,\n",
       "          0.       ,  11.       ],\n",
       "       [104.       ,   0.       ,   1.       ,   0.       ,   0.       ,\n",
       "          1.       ,  42.       ],\n",
       "       [104.       ,   0.       ,   0.       ,   0.       ,   1.       ,\n",
       "          0.       ,   6.       ],\n",
       "       [103.       ,   0.       ,   0.       ,   1.       ,   0.       ,\n",
       "          0.       ,  73.       ]])"
      ]
     },
     "execution_count": 36,
     "metadata": {},
     "output_type": "execute_result"
    }
   ],
   "source": [
    "transformer.fit_transform(X_train).shape"
   ]
  },
  {
   "cell_type": "code",
   "execution_count": 34,
   "id": "276a8531-2293-457a-be1b-34b4194643a0",
   "metadata": {},
   "outputs": [
    {
     "data": {
      "text/plain": [
       "(20, 7)"
      ]
     },
     "execution_count": 34,
     "metadata": {},
     "output_type": "execute_result"
    }
   ],
   "source": [
    "transformer.fit_transform(X_test).shape"
   ]
  },
  {
   "cell_type": "code",
   "execution_count": null,
   "id": "36f22838-eef8-4f0e-8c06-71aeea8cadaf",
   "metadata": {},
   "outputs": [],
   "source": []
  }
 ],
 "metadata": {
  "kernelspec": {
   "display_name": "Python 3 (ipykernel)",
   "language": "python",
   "name": "python3"
  },
  "language_info": {
   "codemirror_mode": {
    "name": "ipython",
    "version": 3
   },
   "file_extension": ".py",
   "mimetype": "text/x-python",
   "name": "python",
   "nbconvert_exporter": "python",
   "pygments_lexer": "ipython3",
   "version": "3.12.4"
  }
 },
 "nbformat": 4,
 "nbformat_minor": 5
}
