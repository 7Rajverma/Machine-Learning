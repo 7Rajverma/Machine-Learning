{
 "cells": [
  {
   "cell_type": "markdown",
   "id": "b36d0d36-5633-4842-8be6-f7683451f7fa",
   "metadata": {},
   "source": [
    "# Most frequent value imputation "
   ]
  },
  {
   "cell_type": "code",
   "execution_count": null,
   "id": "fcb1b63c-219a-47bf-b324-5b2d1a90ce5f",
   "metadata": {},
   "outputs": [],
   "source": []
  }
 ],
 "metadata": {
  "kernelspec": {
   "display_name": "Python 3 (ipykernel)",
   "language": "python",
   "name": "python3"
  },
  "language_info": {
   "codemirror_mode": {
    "name": "ipython",
    "version": 3
   },
   "file_extension": ".py",
   "mimetype": "text/x-python",
   "name": "python",
   "nbconvert_exporter": "python",
   "pygments_lexer": "ipython3",
   "version": "3.12.4"
  }
 },
 "nbformat": 4,
 "nbformat_minor": 5
}
